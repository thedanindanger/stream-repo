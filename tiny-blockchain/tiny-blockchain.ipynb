{
 "cells": [
  {
   "cell_type": "markdown",
   "metadata": {},
   "source": [
    "# Tiniest Blockchain Example Notebook\n",
    "Original source found: https://medium.com/crypto-currently/lets-build-the-tiniest-blockchain-e70965a248b\n",
    "\n"
   ]
  },
  {
   "cell_type": "code",
   "execution_count": 1,
   "metadata": {},
   "outputs": [],
   "source": [
    "#Import packages\n",
    "import hashlib as hasher\n",
    "import datetime as date"
   ]
  },
  {
   "cell_type": "markdown",
   "metadata": {},
   "source": [
    "## SHA Hashing Example\n",
    "SHA256 hash provides unique alpha numeric code (i.e. \"hash\") for given value. Able to recreate original value from given hash.\n",
    "\n",
    "Example below"
   ]
  },
  {
   "cell_type": "code",
   "execution_count": 2,
   "metadata": {},
   "outputs": [
    {
     "name": "stdout",
     "output_type": "stream",
     "text": [
      "e3b0c44298fc1c149afbf4c8996fb92427ae41e4649b934ca495991b7852b855\n"
     ]
    }
   ],
   "source": [
    "sha = hasher.sha256()\n",
    "print(sha.hexdigest())"
   ]
  },
  {
   "cell_type": "markdown",
   "metadata": {},
   "source": [
    "\n",
    "Above shows a random sha256 'hash' - an alpha numeric output of fixed length\n",
    "\n",
    "Hash works in practice by taking a 'string' - an alpha numeric input of ANY length - and returning fixed length, deterministic hash"
   ]
  },
  {
   "cell_type": "code",
   "execution_count": 3,
   "metadata": {},
   "outputs": [
    {
     "name": "stdout",
     "output_type": "stream",
     "text": [
      "19a02fb23ed4f4d29228b1b2b318cc37f3efdb20859048d3397ff4c57f55dbe6\n"
     ]
    }
   ],
   "source": [
    "sha.update(\"1235asihgasdh\".encode(\"utf-8\"))\n",
    "print(sha.hexdigest())"
   ]
  },
  {
   "cell_type": "markdown",
   "metadata": {},
   "source": [
    "\n",
    "'Deterministic' means same input will always result in the same output\n",
    "\n",
    "Below we take the same input as before and reproduce the hash value\n"
   ]
  },
  {
   "cell_type": "code",
   "execution_count": 4,
   "metadata": {},
   "outputs": [
    {
     "name": "stdout",
     "output_type": "stream",
     "text": [
      "19a02fb23ed4f4d29228b1b2b318cc37f3efdb20859048d3397ff4c57f55dbe6\n"
     ]
    }
   ],
   "source": [
    "print(hasher.sha256(\"1235asihgasdh\".encode(\"utf-8\")).hexdigest())"
   ]
  },
  {
   "cell_type": "markdown",
   "metadata": {},
   "source": [
    "\n",
    "It's important to note, the hash function does not work in reverse. You cannot determine what data formed the hash function's input just because you know the hash function's output. \n",
    "\n",
    "\n",
    "\n",
    "In blockchain, each new block (Block 1) includes the hash of the previous block's (Block 0) data AND its hash. \n",
    "\n",
    "Because the previous block's (Block 0) hash includes it's previous block (block -1), once a new block is created, the deterministic hash function prevents all subsequent blocks from being altered. To modify the 'chain' of blocks and hashes, someone would have to modify every single block.\n",
    "\n",
    "Even without encryption modifying every block is a monumental undertaking.\n",
    "\n",
    "Combined with encryption and have multiple copies of your blockchain, all owned by different users, all regularly checking the integrity of their transaction chain, a 'distributed ledger' is possible.\n",
    "\n",
    "However, the technology enabled by the blockchain concept can be difficult to understand without a strong understanding of how blockchain is created.\n",
    "\n",
    "\n"
   ]
  },
  {
   "cell_type": "markdown",
   "metadata": {},
   "source": [
    "## Creating Blockchain\n",
    "Blockchain is series of sha or other hashes of data. Hash for given data must also include previous hash.\n",
    "\n",
    "Provides 'chain' of data history. All hashes contain entire previous history of data; therefore historically immutable when distributed (i.e. stored in multiple locations)\n",
    "\n",
    "As a refresher:\n",
    "* Each block has data, a timestamp, possible index, and the previous block's hash\n",
    "* The previous block's hash and data aare is used when creating it's hash for the current block\n",
    "* The sequence of hashes creates a full history of transactions\n",
    "* hash0 -> txn1 -> hash(txn1, hash0)-> hash1 -> tnx2 -> hash(tnx2, hash1) -> hash2\n",
    "\n",
    "## Building blocks\n",
    "\n",
    "The code below creates a block 'class' - a template for all future blocks which holds the block's data AND any operations we want to use only within that class. The operations are called 'methods' and give us ways to perform repeatable operations that users of the class cannot manipulate.\n",
    "\n",
    "But that detail isn't important, and methods, classes and functions is confusing for those getting started,so let's not dwell on it. The import parts are:\n",
    "* creating a block requires an index, timestamp, data, and the previous hash as inputs\n",
    "* the method 'hash_block' returns the sha256 hash for this block\n",
    "\n",
    "'hash_block' is eactly the same operation we saw above, only instead of a typed string, it's building the hash using the values assigned when creating the block\n"
   ]
  },
  {
   "cell_type": "code",
   "execution_count": 5,
   "metadata": {},
   "outputs": [],
   "source": [
    "class Block:\n",
    "    def __init__(self, index, timestamp, data, previous_hash):\n",
    "        self.index = index\n",
    "        self.timestamp = timestamp\n",
    "        self.data = data\n",
    "        self.previous_hash = previous_hash\n",
    "        self.hash = self.hash_block()\n",
    "        \n",
    "    def hash_block(self):\n",
    "        sha = hasher.sha256()\n",
    "        hash_string = str(self.index) + str(self.timestamp) +  str(self.data) + str(self.previous_hash)\n",
    "        sha.update(hash_string.encode(\"utf-8\"))\n",
    "        return sha.hexdigest()"
   ]
  },
  {
   "cell_type": "markdown",
   "metadata": {},
   "source": [
    "\n",
    "Proof from prior example:"
   ]
  },
  {
   "cell_type": "code",
   "execution_count": 6,
   "metadata": {},
   "outputs": [
    {
     "name": "stdout",
     "output_type": "stream",
     "text": [
      "19a02fb23ed4f4d29228b1b2b318cc37f3efdb20859048d3397ff4c57f55dbe6\n",
      "19a02fb23ed4f4d29228b1b2b318cc37f3efdb20859048d3397ff4c57f55dbe6\n"
     ]
    }
   ],
   "source": [
    "#using our new class\n",
    "exp_block = Block(\"\",\"\",\"\", \"1235asihgasdh\")\n",
    "print(exp_block.hash_block())\n",
    "\n",
    "#using the previous exammple:\n",
    "print(hasher.sha256(\"1235asihgasdh\".encode(\"utf-8\")).hexdigest())"
   ]
  },
  {
   "cell_type": "markdown",
   "metadata": {},
   "source": [
    "### First Block\n",
    "First transaction constructs first block hash. Function instantiates an object of Block class defined in previous module. Block class object has zero index, arbitrary data of \"Gensis Block\" and arbitrary hash of  \"0\". "
   ]
  },
  {
   "cell_type": "code",
   "execution_count": 7,
   "metadata": {},
   "outputs": [],
   "source": [
    "def create_genesis_block():\n",
    "    return Block(0, date.datetime.now(), \"Genesis Block\", \"0\")\n",
    "    "
   ]
  },
  {
   "cell_type": "markdown",
   "metadata": {},
   "source": [
    "### Next Block\n",
    "Define rules around instantiated subsequent Block objects. Requires A previous block to instantiate a new block"
   ]
  },
  {
   "cell_type": "code",
   "execution_count": 8,
   "metadata": {},
   "outputs": [],
   "source": [
    "def next_block(last_block):\n",
    "    this_index = last_block.index + 1\n",
    "    this_timestamp = date.datetime.now()\n",
    "    this_data = \"Hey! I'm block \" + str(this_index)\n",
    "    this_previous_hash = last_block.hash\n",
    "    return Block(this_index, this_timestamp, this_data, this_previous_hash)"
   ]
  },
  {
   "cell_type": "markdown",
   "metadata": {},
   "source": [
    "## Building the Blockchain\n",
    "\n",
    "Construct a Blockchain List with sample data. List is indexed series of blocks using previous blocks sha hash"
   ]
  },
  {
   "cell_type": "code",
   "execution_count": 9,
   "metadata": {},
   "outputs": [
    {
     "name": "stdout",
     "output_type": "stream",
     "text": [
      "a144dda236a8f989358ecfef037c36a2bb60efd9ecd61dcbd37c99aff80f650f\n",
      "a144dda236a8f989358ecfef037c36a2bb60efd9ecd61dcbd37c99aff80f650f\n",
      "a144dda236a8f989358ecfef037c36a2bb60efd9ecd61dcbd37c99aff80f650f\n"
     ]
    }
   ],
   "source": [
    "## Demonstration of list vs string, not part of application\n",
    "bc_string = create_genesis_block()\n",
    "bc_list = [create_genesis_block()]\n",
    "\n",
    "print(bc_string.hash_block())\n",
    "\n",
    "#has index positions\n",
    "print(bc_list[0].hash_block())\n",
    "\n",
    "bc_list.append(bc_string.hash_block())\n",
    "\n",
    "print(bc_list[1])"
   ]
  },
  {
   "cell_type": "code",
   "execution_count": 10,
   "metadata": {},
   "outputs": [
    {
     "name": "stdout",
     "output_type": "stream",
     "text": [
      "Block #1 has been added to blockchain!\n",
      "Hash: 54f522c3c81b62b08ee695c34c21012c27d124f8ce7897d525297c5db14ca1e8\n",
      "\n",
      "Block #2 has been added to blockchain!\n",
      "Hash: 9eec9ccb82ced4f6750c70f1d60edf99bc0c0595644cc46cf33a7439f7169e33\n",
      "\n",
      "Block #3 has been added to blockchain!\n",
      "Hash: d66cb73db09a206afce3b4d44c72375c44a22519c916ab343304496f4235dc22\n",
      "\n",
      "Block #4 has been added to blockchain!\n",
      "Hash: db80cced0d72885c191d2e5df03fbf7ad0f3f8b6495baea26e7ea596bcc5ac45\n",
      "\n",
      "Block #5 has been added to blockchain!\n",
      "Hash: c96bf20be3b3e3b8dc7f3dbf8f00bd8313ba805939dfd98e7ff48a485fbf1302\n",
      "\n",
      "Block #6 has been added to blockchain!\n",
      "Hash: f97b32270ae19c82d00816e56772d70aab154f9ea4227f16fcb7bad79991791e\n",
      "\n",
      "Block #7 has been added to blockchain!\n",
      "Hash: b5e382ee45c23c9a88bf03ae1cb8551e87d249e0e0a5d4920a61d136af83a5dd\n",
      "\n",
      "Block #8 has been added to blockchain!\n",
      "Hash: 37b19572108a33285b09d1cb04db1aab8aa8fed83e5cb345ea5b68a71c1a6e25\n",
      "\n",
      "Block #9 has been added to blockchain!\n",
      "Hash: 504a92d5def91093539c8adb4f5ec72572db9e131ce6655fa15825f8a657152d\n",
      "\n",
      "Block #10 has been added to blockchain!\n",
      "Hash: bd3a49b361c9e49dc25b93d6665df2abbb7d36a99edc27dd16939fa0bc1d2b0d\n",
      "\n",
      "Block #11 has been added to blockchain!\n",
      "Hash: 072e4f2472cdf088af2a92b00ab824a53931c9bfe193be24006f60b914e29d0f\n",
      "\n",
      "Block #12 has been added to blockchain!\n",
      "Hash: e3e41546557adaa7ff8fbfb5b490f249f1562d78089f28b17f9c6fa05eed1bb0\n",
      "\n",
      "Block #13 has been added to blockchain!\n",
      "Hash: 24090a36e70590d70abd52568c08115db1a1e0254968e1c33e4d1e6736458ed5\n",
      "\n",
      "Block #14 has been added to blockchain!\n",
      "Hash: 9f7485573764b30310bc80d6fed1293c9466b7791d85279c5179c30cc9fe8723\n",
      "\n",
      "Block #15 has been added to blockchain!\n",
      "Hash: ebbbed986308d5dfa9ab17d4ec9aea75a32b93b8e18552a64368da0a1f8b6761\n",
      "\n",
      "Block #16 has been added to blockchain!\n",
      "Hash: 442409ee6c29d1db48f270ec2db49badad3f11bef733dd4e99860c221d7b367a\n",
      "\n",
      "Block #17 has been added to blockchain!\n",
      "Hash: aaa00007f89b32e2a17f62234f33301c21758cff32e20c9ecbecde1304156bad\n",
      "\n",
      "Block #18 has been added to blockchain!\n",
      "Hash: 120a0b0b61c385b16abfd8e966794a3759aef0dec4808b245381ace96645277a\n",
      "\n",
      "Block #19 has been added to blockchain!\n",
      "Hash: 2ac0ae2a9b58dfc93d3ec2cfa383b0710d539f76a7d071e43e095462d642699f\n",
      "\n",
      "Block #20 has been added to blockchain!\n",
      "Hash: a6db4b937b9008973a10af90eb1cdec11be443c215c94d5f1638de4609785829\n",
      "\n"
     ]
    }
   ],
   "source": [
    "## actual demostration\n",
    "\n",
    "blockchain = [create_genesis_block()]\n",
    "previous_block = blockchain[0]\n",
    "\n",
    "# number of blocks to create in list\n",
    "\n",
    "num_of_blocks_to_add = 20 \n",
    "\n",
    "# adding blocks to python list i.e. \"chain\"\n",
    "\n",
    "for i in range(0, num_of_blocks_to_add):\n",
    "    block_to_add = next_block(previous_block)\n",
    "    blockchain.append(block_to_add)\n",
    "    previous_block = block_to_add\n",
    "    \n",
    "    print(\"Block #{} has been added to blockchain!\".format(block_to_add.index))\n",
    "    print(\"Hash: {}\\n\".format(block_to_add.hash))\n",
    "\n"
   ]
  },
  {
   "cell_type": "code",
   "execution_count": 11,
   "metadata": {},
   "outputs": [
    {
     "name": "stdout",
     "output_type": "stream",
     "text": [
      "Hey! I'm block 15\n",
      "ebbbed986308d5dfa9ab17d4ec9aea75a32b93b8e18552a64368da0a1f8b6761\n",
      "ebbbed986308d5dfa9ab17d4ec9aea75a32b93b8e18552a64368da0a1f8b6761\n"
     ]
    }
   ],
   "source": [
    "print(blockchain[15].data)\n",
    "print(blockchain[15].hash)\n",
    "print(blockchain[16].previous_hash)"
   ]
  },
  {
   "cell_type": "markdown",
   "metadata": {},
   "source": [
    "## Real World Example\n",
    "\n",
    "Retail store needs to track shipments through complex supply chain. e.g. Walmart fruit goes through many different third parties before arriving in store.\n",
    "\n",
    "Blockchain gives complete picture of all transactions without requiring all 3rd parties to access central database"
   ]
  },
  {
   "cell_type": "markdown",
   "metadata": {},
   "source": [
    "### Creating Functions"
   ]
  },
  {
   "cell_type": "code",
   "execution_count": 12,
   "metadata": {},
   "outputs": [],
   "source": [
    "def next_block(last_block, data):\n",
    "    this_index = last_block.index + 1\n",
    "    this_timestamp = date.datetime.now()\n",
    "    this_data = data\n",
    "    this_previous_hash = last_block.hash\n",
    "    return Block(this_index, this_timestamp, this_data, this_previous_hash)"
   ]
  },
  {
   "cell_type": "code",
   "execution_count": 13,
   "metadata": {},
   "outputs": [],
   "source": [
    "def shipment(buyer, seller, invoice_id):\n",
    "    shipment = {\"from\": seller,\n",
    "               \"to\": buyer,\n",
    "               \"invoice_id\": invoice_id}\n",
    "    return shipment"
   ]
  },
  {
   "cell_type": "code",
   "execution_count": 14,
   "metadata": {},
   "outputs": [],
   "source": [
    "def get_previous_block(current_blockchain):\n",
    "    block = current_blockchain[len(current_blockchain)-1]\n",
    "    return block"
   ]
  },
  {
   "cell_type": "code",
   "execution_count": 15,
   "metadata": {},
   "outputs": [
    {
     "name": "stdout",
     "output_type": "stream",
     "text": [
      "21\n",
      "a6db4b937b9008973a10af90eb1cdec11be443c215c94d5f1638de4609785829\n"
     ]
    }
   ],
   "source": [
    "#example\n",
    "# Python indexes starting with zero\n",
    "# However, counts starting with one\n",
    "\n",
    "print(len(blockchain))\n",
    "print(blockchain[len(blockchain)-1].hash)"
   ]
  },
  {
   "cell_type": "code",
   "execution_count": 16,
   "metadata": {},
   "outputs": [],
   "source": [
    "def add_shipment_to_blockchain(shipment_info, current_blockchain):\n",
    "    previous_block = get_previous_block(current_blockchain)\n",
    "    new_block = next_block(previous_block, shipment_info)\n",
    "    current_blockchain.append(new_block)\n",
    "    return current_blockchain"
   ]
  },
  {
   "cell_type": "code",
   "execution_count": 17,
   "metadata": {},
   "outputs": [],
   "source": [
    "# quality of life function to show data in blockchain\n",
    "\n",
    "def print_data(current_blockchain):\n",
    "    for i in current_blockchain:\n",
    "        print(str(i.data) +\" \" + i.hash)"
   ]
  },
  {
   "cell_type": "markdown",
   "metadata": {},
   "source": [
    "### Building the blockchain"
   ]
  },
  {
   "cell_type": "code",
   "execution_count": 18,
   "metadata": {},
   "outputs": [],
   "source": [
    "blockchain = [create_genesis_block()]"
   ]
  },
  {
   "cell_type": "code",
   "execution_count": 19,
   "metadata": {},
   "outputs": [
    {
     "name": "stdout",
     "output_type": "stream",
     "text": [
      "Genesis Block abbef24640ac9dc8babcae24b6bde29e0ec4e66866d42c4581144c35923680b8\n"
     ]
    }
   ],
   "source": [
    "# Printing data in blockchain\n",
    "print_data(blockchain)"
   ]
  },
  {
   "cell_type": "code",
   "execution_count": 20,
   "metadata": {},
   "outputs": [],
   "source": [
    "# Add transaction to chain\n",
    "txn1 = shipment(\"Farm123\", \"Store234\", \"1\")"
   ]
  },
  {
   "cell_type": "code",
   "execution_count": 21,
   "metadata": {},
   "outputs": [],
   "source": [
    "blockchain = add_shipment_to_blockchain(txn1, blockchain)"
   ]
  },
  {
   "cell_type": "code",
   "execution_count": 22,
   "metadata": {},
   "outputs": [
    {
     "name": "stdout",
     "output_type": "stream",
     "text": [
      "Genesis Block abbef24640ac9dc8babcae24b6bde29e0ec4e66866d42c4581144c35923680b8\n",
      "{'from': 'Store234', 'to': 'Farm123', 'invoice_id': '1'} 7fdd3a4fdc34e63990118486c662b548b222108065d9119b16f77c5c35f70654\n"
     ]
    }
   ],
   "source": [
    "print_data(blockchain)"
   ]
  },
  {
   "cell_type": "code",
   "execution_count": 23,
   "metadata": {},
   "outputs": [],
   "source": [
    "txn2 = shipment(\"Store234\", \"Store567\", \"1\")"
   ]
  },
  {
   "cell_type": "code",
   "execution_count": 24,
   "metadata": {},
   "outputs": [
    {
     "name": "stdout",
     "output_type": "stream",
     "text": [
      "Genesis Block abbef24640ac9dc8babcae24b6bde29e0ec4e66866d42c4581144c35923680b8\n",
      "{'from': 'Store234', 'to': 'Farm123', 'invoice_id': '1'} 7fdd3a4fdc34e63990118486c662b548b222108065d9119b16f77c5c35f70654\n",
      "{'from': 'Store234', 'to': 'Farm123', 'invoice_id': '1'} 6aa89b02d52d35df146a7be279591fcd80e52273b560d33304d659a39558bf6e\n"
     ]
    }
   ],
   "source": [
    "blockchain = add_shipment_to_blockchain(txn1, blockchain)\n",
    "print_data(blockchain)"
   ]
  },
  {
   "cell_type": "code",
   "execution_count": null,
   "metadata": {},
   "outputs": [],
   "source": []
  },
  {
   "cell_type": "code",
   "execution_count": null,
   "metadata": {},
   "outputs": [],
   "source": []
  }
 ],
 "metadata": {
  "kernelspec": {
   "display_name": "stan_env",
   "language": "python",
   "name": "stan_env"
  },
  "language_info": {
   "codemirror_mode": {
    "name": "ipython",
    "version": 3
   },
   "file_extension": ".py",
   "mimetype": "text/x-python",
   "name": "python",
   "nbconvert_exporter": "python",
   "pygments_lexer": "ipython3",
   "version": "3.7.0"
  }
 },
 "nbformat": 4,
 "nbformat_minor": 4
}
