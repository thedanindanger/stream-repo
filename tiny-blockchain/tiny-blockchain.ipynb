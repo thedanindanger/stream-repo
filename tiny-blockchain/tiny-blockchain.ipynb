{
 "cells": [
  {
   "cell_type": "markdown",
   "metadata": {},
   "source": [
    "# Tiniest Blockchain Example Notebook\n",
    "Original source found: https://medium.com/crypto-currently/lets-build-the-tiniest-blockchain-e70965a248b\n",
    "\n"
   ]
  },
  {
   "cell_type": "code",
   "execution_count": 5,
   "metadata": {},
   "outputs": [],
   "source": [
    "#Import packages\n",
    "import hashlib as hasher\n",
    "import datetime as date"
   ]
  },
  {
   "cell_type": "markdown",
   "metadata": {},
   "source": [
    "## SHA Hashing Example\n",
    "SHA256 hash provides unique alpha numeric code (i.e. \"hash\") for given value. Able to recreate original value from given hash.\n",
    "\n",
    "Example below"
   ]
  },
  {
   "cell_type": "code",
   "execution_count": 7,
   "metadata": {},
   "outputs": [
    {
     "name": "stdout",
     "output_type": "stream",
     "text": [
      "e3b0c44298fc1c149afbf4c8996fb92427ae41e4649b934ca495991b7852b855\n"
     ]
    }
   ],
   "source": [
    "sha = hasher.sha256()\n",
    "print(sha.hexdigest())"
   ]
  },
  {
   "cell_type": "markdown",
   "metadata": {},
   "source": [
    "\n",
    "Above shows a random sha256 'hash' - an alpha numeric output of fixed length\n",
    "\n",
    "Hash works in practice by taking a 'string' - an alpha numeric input of ANY length - and returning fixed length, deterministic hash"
   ]
  },
  {
   "cell_type": "code",
   "execution_count": 11,
   "metadata": {},
   "outputs": [
    {
     "name": "stdout",
     "output_type": "stream",
     "text": [
      "19a02fb23ed4f4d29228b1b2b318cc37f3efdb20859048d3397ff4c57f55dbe6\n"
     ]
    }
   ],
   "source": [
    "sha.update(\"1235asihgasdh\".encode(\"utf-8\"))\n",
    "print(sha.hexdigest())"
   ]
  },
  {
   "cell_type": "markdown",
   "metadata": {},
   "source": [
    "\n",
    "'Deterministic' means same input will always result in the same output\n",
    "\n",
    "Below we take the same input as before and reproduce the hash value\n"
   ]
  },
  {
   "cell_type": "code",
   "execution_count": 14,
   "metadata": {},
   "outputs": [
    {
     "name": "stdout",
     "output_type": "stream",
     "text": [
      "19a02fb23ed4f4d29228b1b2b318cc37f3efdb20859048d3397ff4c57f55dbe6\n"
     ]
    }
   ],
   "source": [
    "print(hasher.sha256(\"1235asihgasdh\".encode(\"utf-8\")).hexdigest())"
   ]
  },
  {
   "cell_type": "markdown",
   "metadata": {},
   "source": [
    "\n",
    "It's important to note, the hash function does not work in reverse. You cannot determine what data formed the hash function's input just because you know the hash function's output. \n",
    "\n",
    "\n",
    "\n",
    "In blockchain, each new block (Block 1) includes the hash of the previous block's (Block 0) data AND its hash. \n",
    "\n",
    "Because the previous block's (Block 0) hash includes it's previous block (block -1), once a new block is created, the deterministic hash function prevents all subsequent blocks from being altered. To modify the 'chain' of blocks and hashes, someone would have to modify every single block.\n",
    "\n",
    "Even without encryption modifying every block is a monumental undertaking.\n",
    "\n",
    "Combined with encryption and have multiple copies of your blockchain, all owned by different users, all regularly checking the integrity of their transaction chain, a 'distributed ledger' is possible.\n",
    "\n",
    "However, the technology enabled by the blockchain concept can be difficult to understand without a strong understanding of how blockchain is created.\n",
    "\n",
    "\n"
   ]
  },
  {
   "cell_type": "markdown",
   "metadata": {},
   "source": [
    "## Creating Blockchain\n",
    "Blockchain is series of sha or other hashes of data. Hash for given data must also include previous hash.\n",
    "\n",
    "Provides 'chain' of data history. All hashes contain entire previous history of data; therefore historically immutable when distributed (i.e. stored in multiple locations)\n",
    "\n",
    "As a refresher:\n",
    "* Each block has data, a timestamp, possible index, and the previous block's hash\n",
    "* The previous block's hash and data aare is used when creating it's hash for the current block\n",
    "* The sequence of hashes creates a full history of transactions\n",
    "* hash0 -> txn1 -> hash(txn1, hash0)-> hash1 -> tnx2 -> hash(tnx2, hash1) -> hash2\n",
    "\n",
    "## Building blocks\n",
    "\n",
    "The code below creates a block 'class' - a template for all future blocks which holds the block's data AND any operations we want to use only within that class. The operations are called 'methods' and give us ways to perform repeatable operations that users of the class cannot manipulate.\n",
    "\n",
    "But that detail isn't important, and methods, classes and functions is confusing for those getting started,so let's not dwell on it. The import parts are:\n",
    "* creating a block requires an index, timestamp, data, and the previous hash as inputs\n",
    "* the method 'hash_block' returns the sha256 hash for this block\n",
    "\n",
    "'hash_block' is eactly the same operation we saw above, only instead of a typed string, it's building the hash using the values assigned when creating the block\n"
   ]
  },
  {
   "cell_type": "code",
   "execution_count": 24,
   "metadata": {},
   "outputs": [],
   "source": [
    "class Block:\n",
    "    def __init__(self, index, timestamp, data, previous_hash):\n",
    "        self.index = index\n",
    "        self.timestamp = timestamp\n",
    "        self.data = data\n",
    "        self.previous_hash = previous_hash\n",
    "        self.hash = self.hash_block()\n",
    "        \n",
    "    def hash_block(self):\n",
    "        sha = hasher.sha256()\n",
    "        hash_string = str(self.index) + str(self.timestamp) +  str(self.data) + str(self.previous_hash)\n",
    "        sha.update(hash_string.encode(\"utf-8\"))\n",
    "        return sha.hexdigest()"
   ]
  },
  {
   "cell_type": "markdown",
   "metadata": {},
   "source": [
    "\n",
    "Proof from prior example:"
   ]
  },
  {
   "cell_type": "code",
   "execution_count": 28,
   "metadata": {},
   "outputs": [
    {
     "name": "stdout",
     "output_type": "stream",
     "text": [
      "19a02fb23ed4f4d29228b1b2b318cc37f3efdb20859048d3397ff4c57f55dbe6\n",
      "19a02fb23ed4f4d29228b1b2b318cc37f3efdb20859048d3397ff4c57f55dbe6\n"
     ]
    }
   ],
   "source": [
    "#using our new class\n",
    "exp_block = Block(\"\",\"\",\"\", \"1235asihgasdh\")\n",
    "print(exp_block.hash_block())\n",
    "\n",
    "#using the previous exammple:\n",
    "print(hasher.sha256(\"1235asihgasdh\".encode(\"utf-8\")).hexdigest())"
   ]
  },
  {
   "cell_type": "markdown",
   "metadata": {},
   "source": [
    "### First Block\n",
    "First transaction constructs first block hash. Function instantiates an object of Block class defined in previous module. Block class object has zero index, arbitrary data of \"Gensis Block\" and arbitrary hash of  \"0\". "
   ]
  },
  {
   "cell_type": "code",
   "execution_count": 29,
   "metadata": {},
   "outputs": [],
   "source": [
    "def create_genesis_block():\n",
    "    return Block(0, date.datetime.now(), \"Genesis Block\", \"0\")\n",
    "    "
   ]
  },
  {
   "cell_type": "markdown",
   "metadata": {},
   "source": [
    "### Next Block\n",
    "Define rules around instantiated subsequent Block objects. Requires A previous block to instantiate a new block"
   ]
  },
  {
   "cell_type": "code",
   "execution_count": 30,
   "metadata": {},
   "outputs": [],
   "source": [
    "def next_block(last_block):\n",
    "    this_index = last_block.index + 1\n",
    "    this_timestamp = date.datetime.now()\n",
    "    this_data = \"Hey! I'm block \" + str(this_index)\n",
    "    this_previous_hash = last_block.hash\n",
    "    return Block(this_index, this_timestamp, this_data, this_previous_hash)"
   ]
  },
  {
   "cell_type": "markdown",
   "metadata": {},
   "source": [
    "## Building the Blockchain\n",
    "\n",
    "Construct a Blockchain List with sample data. List is indexed series of blocks using previous blocks sha hash"
   ]
  },
  {
   "cell_type": "code",
   "execution_count": 32,
   "metadata": {},
   "outputs": [
    {
     "name": "stdout",
     "output_type": "stream",
     "text": [
      "4f7ad96c48b376be6b05252445e63a8106e291500f3301aad19b27fec5e60a96\n",
      "4f7ad96c48b376be6b05252445e63a8106e291500f3301aad19b27fec5e60a96\n",
      "4f7ad96c48b376be6b05252445e63a8106e291500f3301aad19b27fec5e60a96\n"
     ]
    }
   ],
   "source": [
    "## Demonstration of list vs string, not part of application\n",
    "bc_string = create_genesis_block()\n",
    "bc_list = [create_genesis_block()]\n",
    "\n",
    "print(bc_string.hash_block())\n",
    "\n",
    "#has index positions\n",
    "print(bc_list[0].hash_block())\n",
    "\n",
    "bc_list.append(bc_string.hash_block())\n",
    "\n",
    "print(bc_list[1])"
   ]
  },
  {
   "cell_type": "code",
   "execution_count": 34,
   "metadata": {},
   "outputs": [
    {
     "name": "stdout",
     "output_type": "stream",
     "text": [
      "Block #1 has been added to blockchain!\n",
      "Hash: 276a2caf726dc113392739521e143d29f5bdb179c258592b5eb21c4e6fd24265\n",
      "\n",
      "Block #2 has been added to blockchain!\n",
      "Hash: 7f3f0f2ef4396da0c89c8ff455a371512dcc0dccd288104cfed88a8caa49f22e\n",
      "\n",
      "Block #3 has been added to blockchain!\n",
      "Hash: 89a1d6f8f46a5398ab6784f46f037d2a3398b3610d2dde52fabe4de5d15ed854\n",
      "\n",
      "Block #4 has been added to blockchain!\n",
      "Hash: 7fb338005bbfbd21b3d1cc15fef217a22ac571356a25ca1b671770f85db43497\n",
      "\n",
      "Block #5 has been added to blockchain!\n",
      "Hash: 049cef06a087ef3ec6dd370c91e9bc4ab89e9256488a16fcc23a1886dec7bf4e\n",
      "\n",
      "Block #6 has been added to blockchain!\n",
      "Hash: 255cd84f9a674d23fbae9b1fc4d5dd9c684fbc2030020c00721337d7f7fc5748\n",
      "\n",
      "Block #7 has been added to blockchain!\n",
      "Hash: 17bcedb5eaa6af64002cc6e382b8eae42ab3e01fdab4d9b098fafad2eabbdd13\n",
      "\n",
      "Block #8 has been added to blockchain!\n",
      "Hash: 768508a865c0cd70bae6606b62e53225f4330346afb46d9fd32f4e5f9f4cc163\n",
      "\n",
      "Block #9 has been added to blockchain!\n",
      "Hash: 649779d2a3a43b3c230c3b92b4cd6ce4fa83747ca5ed2bb56eec45c8b13fc949\n",
      "\n",
      "Block #10 has been added to blockchain!\n",
      "Hash: 2f89541f59839eac339baf14f434ce612e72b1cc0cbe4a4527d12c9b9a868aaa\n",
      "\n",
      "Block #11 has been added to blockchain!\n",
      "Hash: c6fdf03d002772e57662da4454ff631a9e56778b6eb1960d392bb4a924e0a827\n",
      "\n",
      "Block #12 has been added to blockchain!\n",
      "Hash: 6eaf041a7f043a2ec07a9963f758289187f596256045607f807fdd6e480f7ee8\n",
      "\n",
      "Block #13 has been added to blockchain!\n",
      "Hash: 1a68767f96e0a6d97c4c40eecbe59820cc8891450572e772f8d36160f22cf079\n",
      "\n",
      "Block #14 has been added to blockchain!\n",
      "Hash: 5855155926dbd6c3fba8970a5418c3677f245709b30bf706538bbe846c9ed401\n",
      "\n",
      "Block #15 has been added to blockchain!\n",
      "Hash: 37ad9a3a3d9af2754859e543c754cd76e3803d8e2986e69d274483707e63019f\n",
      "\n",
      "Block #16 has been added to blockchain!\n",
      "Hash: 130111290a9a496287f060af1e042aa46904a40044cb2b1330f8de6d385c7fb5\n",
      "\n",
      "Block #17 has been added to blockchain!\n",
      "Hash: 46cb40fc77972e2e38a759401e3fa574ec4087c4d39bed7f4f72f4811589865b\n",
      "\n",
      "Block #18 has been added to blockchain!\n",
      "Hash: 800647fd0e291f6e283a11dbeb8eac28a95ef0a457924bb5bba511f5ac788c0e\n",
      "\n",
      "Block #19 has been added to blockchain!\n",
      "Hash: a6f75aad4e09ee8bd0f81f5bc148a9216bcfdf47d0e1465156cc0c53ac8dc4b6\n",
      "\n",
      "Block #20 has been added to blockchain!\n",
      "Hash: 6d270246235d7d5a3bac437f0e65167c14d2f84a7481d536a5498c87519d6c74\n",
      "\n"
     ]
    }
   ],
   "source": [
    "## actual demostration\n",
    "\n",
    "blockchain = [create_genesis_block()]\n",
    "previous_block = blockchain[0]\n",
    "\n",
    "# number of blocks to create in list\n",
    "\n",
    "num_of_blocks_to_add = 20 \n",
    "\n",
    "# adding blocks to python list i.e. \"chain\"\n",
    "\n",
    "for i in range(0, num_of_blocks_to_add):\n",
    "    block_to_add = next_block(previous_block)\n",
    "    blockchain.append(block_to_add)\n",
    "    previous_block = block_to_add\n",
    "    \n",
    "    print(\"Block #{} has been added to blockchain!\".format(block_to_add.index))\n",
    "    print(\"Hash: {}\\n\".format(block_to_add.hash))\n",
    "\n"
   ]
  },
  {
   "cell_type": "code",
   "execution_count": 35,
   "metadata": {},
   "outputs": [
    {
     "name": "stdout",
     "output_type": "stream",
     "text": [
      "Hey! I'm block 15\n",
      "37ad9a3a3d9af2754859e543c754cd76e3803d8e2986e69d274483707e63019f\n",
      "37ad9a3a3d9af2754859e543c754cd76e3803d8e2986e69d274483707e63019f\n"
     ]
    }
   ],
   "source": [
    "print(blockchain[15].data)\n",
    "print(blockchain[15].hash)\n",
    "print(blockchain[16].previous_hash)"
   ]
  },
  {
   "cell_type": "markdown",
   "metadata": {},
   "source": [
    "## Real World Example\n",
    "\n",
    "Retail store needs to track shipments through complex supply chain. e.g. Walmart fruit goes through many different third parties before arriving in store.\n",
    "\n",
    "Blockchain gives complete picture of all transactions without requiring all 3rd parties to access central database"
   ]
  },
  {
   "cell_type": "markdown",
   "metadata": {},
   "source": [
    "### Creating Functions"
   ]
  },
  {
   "cell_type": "code",
   "execution_count": 36,
   "metadata": {},
   "outputs": [],
   "source": [
    "def next_block(last_block, data):\n",
    "    this_index = last_block.index + 1\n",
    "    this_timestamp = date.datetime.now()\n",
    "    this_data = data\n",
    "    this_previous_hash = last_block.hash\n",
    "    return Block(this_index, this_timestamp, this_data, this_previous_hash)"
   ]
  },
  {
   "cell_type": "code",
   "execution_count": 37,
   "metadata": {},
   "outputs": [],
   "source": [
    "def shipment(buyer, seller, invoice_id):\n",
    "    shipment = {\"from\": seller,\n",
    "               \"to\": buyer,\n",
    "               \"invoice_id\": invoice_id}\n",
    "    return shipment"
   ]
  },
  {
   "cell_type": "code",
   "execution_count": 38,
   "metadata": {},
   "outputs": [],
   "source": [
    "def get_previous_block(current_blockchain):\n",
    "    block = current_blockchain[len(current_blockchain)-1]\n",
    "    return block"
   ]
  },
  {
   "cell_type": "code",
   "execution_count": 39,
   "metadata": {},
   "outputs": [
    {
     "name": "stdout",
     "output_type": "stream",
     "text": [
      "21\n",
      "6d270246235d7d5a3bac437f0e65167c14d2f84a7481d536a5498c87519d6c74\n"
     ]
    }
   ],
   "source": [
    "#example\n",
    "# Python indexes starting with zero\n",
    "# However, counts starting with one\n",
    "\n",
    "print(len(blockchain))\n",
    "print(blockchain[len(blockchain)-1].hash)"
   ]
  },
  {
   "cell_type": "code",
   "execution_count": 40,
   "metadata": {},
   "outputs": [],
   "source": [
    "def add_shipment_to_blockchain(shipment_info, current_blockchain):\n",
    "    previous_block = get_previous_block(current_blockchain)\n",
    "    new_block = next_block(previous_block, shipment_info)\n",
    "    current_blockchain.append(new_block)\n",
    "    return current_blockchain"
   ]
  },
  {
   "cell_type": "code",
   "execution_count": 41,
   "metadata": {},
   "outputs": [],
   "source": [
    "# quality of life function to show data in blockchain\n",
    "\n",
    "def print_data(current_blockchain):\n",
    "    for i in current_blockchain:\n",
    "        print(str(i.data) +\" \" + i.hash)"
   ]
  },
  {
   "cell_type": "markdown",
   "metadata": {},
   "source": [
    "### Building the blockchain"
   ]
  },
  {
   "cell_type": "code",
   "execution_count": 42,
   "metadata": {},
   "outputs": [],
   "source": [
    "blockchain = [create_genesis_block()]"
   ]
  },
  {
   "cell_type": "code",
   "execution_count": 43,
   "metadata": {},
   "outputs": [
    {
     "name": "stdout",
     "output_type": "stream",
     "text": [
      "Genesis Block 47ce78d6b15146aed04c900ed68eb985088f3eb314974990ebfa6dac76b7919b\n"
     ]
    }
   ],
   "source": [
    "# Printing data in blockchain\n",
    "print_data(blockchain)"
   ]
  },
  {
   "cell_type": "code",
   "execution_count": 44,
   "metadata": {},
   "outputs": [],
   "source": [
    "# Add transaction to chain\n",
    "txn1 = shipment(\"Farm123\", \"Store234\", \"1\")"
   ]
  },
  {
   "cell_type": "code",
   "execution_count": 45,
   "metadata": {},
   "outputs": [],
   "source": [
    "blockchain = add_shipment_to_blockchain(txn1, blockchain)"
   ]
  },
  {
   "cell_type": "code",
   "execution_count": 46,
   "metadata": {},
   "outputs": [
    {
     "name": "stdout",
     "output_type": "stream",
     "text": [
      "Genesis Block 47ce78d6b15146aed04c900ed68eb985088f3eb314974990ebfa6dac76b7919b\n",
      "{'from': 'Store234', 'to': 'Farm123', 'invoice_id': '1'} 090a7316ec556dcc4ad34fbf31ee50dac956c95a2ea798b627a9524002bd860e\n"
     ]
    }
   ],
   "source": [
    "print_data(blockchain)"
   ]
  },
  {
   "cell_type": "code",
   "execution_count": 47,
   "metadata": {},
   "outputs": [],
   "source": [
    "txn2 = shipment(\"Store234\", \"Store567\", \"1\")"
   ]
  },
  {
   "cell_type": "code",
   "execution_count": 48,
   "metadata": {},
   "outputs": [
    {
     "name": "stdout",
     "output_type": "stream",
     "text": [
      "Genesis Block 47ce78d6b15146aed04c900ed68eb985088f3eb314974990ebfa6dac76b7919b\n",
      "{'from': 'Store234', 'to': 'Farm123', 'invoice_id': '1'} 090a7316ec556dcc4ad34fbf31ee50dac956c95a2ea798b627a9524002bd860e\n",
      "{'from': 'Store234', 'to': 'Farm123', 'invoice_id': '1'} e76dbee12f838063eefee8a494c4a85b6b83a77e57a69f71ea6b66a3f42a5f96\n"
     ]
    }
   ],
   "source": [
    "blockchain = add_shipment_to_blockchain(txn1, blockchain)\n",
    "print_data(blockchain)"
   ]
  },
  {
   "cell_type": "code",
   "execution_count": null,
   "metadata": {},
   "outputs": [],
   "source": []
  }
 ],
 "metadata": {
  "kernelspec": {
   "display_name": "stan_env",
   "language": "python",
   "name": "stan_env"
  },
  "language_info": {
   "codemirror_mode": {
    "name": "ipython",
    "version": 3
   },
   "file_extension": ".py",
   "mimetype": "text/x-python",
   "name": "python",
   "nbconvert_exporter": "python",
   "pygments_lexer": "ipython3",
   "version": "3.7.0"
  }
 },
 "nbformat": 4,
 "nbformat_minor": 4
}
