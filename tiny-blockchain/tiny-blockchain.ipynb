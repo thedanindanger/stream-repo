{
 "cells": [
  {
   "cell_type": "markdown",
   "metadata": {},
   "source": [
    "# Tiniest Blockchain Example Notebook\n",
    "Original source found: https://medium.com/crypto-currently/lets-build-the-tiniest-blockchain-e70965a248b\n",
    "\n"
   ]
  },
  {
   "cell_type": "code",
   "execution_count": 24,
   "metadata": {},
   "outputs": [],
   "source": [
    "#Import packages\n",
    "import hashlib as hasher\n",
    "import pandas\n",
    "import datetime as date"
   ]
  },
  {
   "cell_type": "markdown",
   "metadata": {},
   "source": [
    "## SHA Hashing Example\n",
    "SHA256 hash provides unique alpha numeric code (i.e. \"hash\") for given value. Able to recreate original value from given hash.\n",
    "\n",
    "Example below"
   ]
  },
  {
   "cell_type": "code",
   "execution_count": 14,
   "metadata": {},
   "outputs": [
    {
     "name": "stdout",
     "output_type": "stream",
     "text": [
      "e3b0c44298fc1c149afbf4c8996fb92427ae41e4649b934ca495991b7852b855\n"
     ]
    }
   ],
   "source": [
    "sha = hasher.sha256()\n",
    "print sha.hexdigest()"
   ]
  },
  {
   "cell_type": "code",
   "execution_count": 15,
   "metadata": {},
   "outputs": [
    {
     "name": "stdout",
     "output_type": "stream",
     "text": [
      "19a02fb23ed4f4d29228b1b2b318cc37f3efdb20859048d3397ff4c57f55dbe6\n"
     ]
    }
   ],
   "source": [
    "sha.update(\"1235asihgasdh\")\n",
    "print sha.hexdigest()"
   ]
  },
  {
   "cell_type": "code",
   "execution_count": 13,
   "metadata": {},
   "outputs": [
    {
     "name": "stdout",
     "output_type": "stream",
     "text": [
      "19a02fb23ed4f4d29228b1b2b318cc37f3efdb20859048d3397ff4c57f55dbe6\n"
     ]
    }
   ],
   "source": [
    "print hasher.sha256(\"1235asihgasdh\").hexdigest()"
   ]
  },
  {
   "cell_type": "markdown",
   "metadata": {},
   "source": [
    "## Creating Blockchain\n",
    "Blockchain is series of sha or other hashes of data. Hash for given data must also include previous hash.\n",
    "\n",
    "Provides 'chain' of data history. All hashes contain entire previous history of data; therefore historically immutable when distributed (i.e. stored in multiple locations)"
   ]
  },
  {
   "cell_type": "code",
   "execution_count": 23,
   "metadata": {},
   "outputs": [],
   "source": [
    "#Each block has timestamp, possible index\n",
    "#The previous block is used when hasing the current block\n",
    "#Creates a full history of transactions\n",
    "# hash0 -> txn1 -> hash(txn1, hash0)-> hash1 -> tnx2 -> hash(tnx2, hash1) -> hash2\n",
    "\n",
    "class Block:\n",
    "    def __init__(self, index, timestamp, data, previous_hash):\n",
    "        self.index = index\n",
    "        self.timestamp = timestamp\n",
    "        self.data = data\n",
    "        self.previous_hash = previous_hash\n",
    "        self.hash = self.hash_block()\n",
    "        \n",
    "    def hash_block(self):\n",
    "        sha = hasher.sha256()\n",
    "        sha.update(str(self.index) +\n",
    "                  str(self.timestamp) + \n",
    "                  str(self.data) + \n",
    "                  str(self.previous_hash))\n",
    "        return sha.hexdigest()"
   ]
  },
  {
   "cell_type": "markdown",
   "metadata": {},
   "source": [
    "### First Block\n",
    "First transaction constructs first block hash. Function instantiates an object of Block class defined in previous module. Block class object has zero index, arbitrary data of \"Gensis Block\" and arbitrary hash of  \"0\". "
   ]
  },
  {
   "cell_type": "code",
   "execution_count": 27,
   "metadata": {},
   "outputs": [],
   "source": [
    "def create_genesis_block():\n",
    "    return Block(0, date.datetime.now(), \"Genesis Block\", \"0\")\n",
    "    "
   ]
  },
  {
   "cell_type": "markdown",
   "metadata": {},
   "source": [
    "### Next Block\n",
    "Define rules around instantiated subsequent Block objects. Requires A previous block to instantiate a new block"
   ]
  },
  {
   "cell_type": "code",
   "execution_count": 28,
   "metadata": {},
   "outputs": [],
   "source": [
    "def next_block(last_block):\n",
    "    this_index = last_block.index + 1\n",
    "    this_timestamp = date.datetime.now()\n",
    "    this_data = \"Hey! I'm block \" + str(this_index)\n",
    "    this_previous_hash = last_block.hash\n",
    "    return Block(this_index, this_timestamp, this_data, this_previous_hash)"
   ]
  },
  {
   "cell_type": "markdown",
   "metadata": {},
   "source": [
    "## Building the Blockchain\n",
    "\n",
    "Construct a Blockchain array with sample data. Arry is indexed series of blocks using previous blocks sha hash"
   ]
  },
  {
   "cell_type": "code",
   "execution_count": 36,
   "metadata": {},
   "outputs": [
    {
     "name": "stdout",
     "output_type": "stream",
     "text": [
      "320ce55ac40fde9eb907a8791b2600d25c43d54c5563010712e599f9dc151896\n",
      "1a704caee428066e2721f36dc410916917126d09c87aa9aee7d95adc83941f70\n"
     ]
    }
   ],
   "source": [
    "## Demonstration of array, not part of application\n",
    "bc_string = create_genesis_block()\n",
    "bc_list = [create_genesis_block()]\n",
    "\n",
    "print bc_string.hash_block()\n",
    "\n",
    "#has index positions\n",
    "print bc_list[0].hash_block()\n"
   ]
  },
  {
   "cell_type": "code",
   "execution_count": 38,
   "metadata": {},
   "outputs": [
    {
     "name": "stdout",
     "output_type": "stream",
     "text": [
      "Block #1 has been added to blockchain!\n",
      "Hash: df18b6f421163f130cc236d4c494ddcf076bff183b5dd2787c6b8c560f6a3f09\n",
      "\n",
      "Block #2 has been added to blockchain!\n",
      "Hash: b4cee9ffbcb2f29f59a9616194837ba25c71e9152bf219ddb08641f13a91543e\n",
      "\n",
      "Block #3 has been added to blockchain!\n",
      "Hash: a3410d95ef1a626df4daf138291efb89914b81a6eaf17a5b7592b8e3614c768a\n",
      "\n",
      "Block #4 has been added to blockchain!\n",
      "Hash: 81d7b0ffdca2de33685606521c4f92bb87792464bbd460e302caf5964bafe75d\n",
      "\n",
      "Block #5 has been added to blockchain!\n",
      "Hash: 8604e296adf76dee6e69da66969761ef07bf43224cde5fa9b1d161f3f1a07d81\n",
      "\n",
      "Block #6 has been added to blockchain!\n",
      "Hash: 96314990860d37c12f7ce606b97ea543936799cbb16e7b3e8109fbebba54d9e7\n",
      "\n",
      "Block #7 has been added to blockchain!\n",
      "Hash: fd965d80fd5d70b4edb5ef92c6ea5335d0848803a7cec4eddecad83b8e04383b\n",
      "\n",
      "Block #8 has been added to blockchain!\n",
      "Hash: d541665ecc13ef289ec4df52b596fa8ba27d0ce5d34b074db239777c77cc5ee1\n",
      "\n",
      "Block #9 has been added to blockchain!\n",
      "Hash: f8c4fd144d96adcde5d375d55fa356401ddf5a29238abb6b05c70ea7056092ef\n",
      "\n",
      "Block #10 has been added to blockchain!\n",
      "Hash: 3b9185a5716145316472bac98d2fd48ed2c594692e79a727f7dcae6f90003695\n",
      "\n",
      "Block #11 has been added to blockchain!\n",
      "Hash: 751a60f3dacc1d1df86809b9d790dfc33c99551c1606c5bbec5bc3d818233c11\n",
      "\n",
      "Block #12 has been added to blockchain!\n",
      "Hash: 31ad681a924663a175fbe7cd5952dedbb574db454d3af17b817f279751df8dc6\n",
      "\n",
      "Block #13 has been added to blockchain!\n",
      "Hash: 8afe5e7dfc9bd632c40e0cdc7bfe9d508071a862c20a613926007391285dc78b\n",
      "\n",
      "Block #14 has been added to blockchain!\n",
      "Hash: ec34058cf2aac8246b1b83c14a43407a5afb69f1624dd2c712526509df210c32\n",
      "\n",
      "Block #15 has been added to blockchain!\n",
      "Hash: b4b521497fce62097d412c01b059cc7ff57c3ecf75d76000339fc9b57b4b57b3\n",
      "\n",
      "Block #16 has been added to blockchain!\n",
      "Hash: 3c0fc07798af920aa42b025fee5b38abcc2eb6bd7fdc8ba49e3bc5aab62b0433\n",
      "\n",
      "Block #17 has been added to blockchain!\n",
      "Hash: 86226893b19a9139065b41fccf7a8f87e032e99226863ef0053672cbebde35e7\n",
      "\n",
      "Block #18 has been added to blockchain!\n",
      "Hash: de5a27c6957d99b39a726b78eb89ae4af7a71949c3dcc1048fd46286918a4dbf\n",
      "\n",
      "Block #19 has been added to blockchain!\n",
      "Hash: b1a8e2407aeeca761a484a48d2d79d91a4e98f09dee9603c30760507f7be5ab7\n",
      "\n",
      "Block #20 has been added to blockchain!\n",
      "Hash: f44fb63407a1defff9ea77e3e4871c7b294ffe7d086ddf9a22b6169efb7aab9c\n",
      "\n"
     ]
    }
   ],
   "source": [
    "## actual demostration\n",
    "\n",
    "blockchain = [create_genesis_block()]\n",
    "previous_block = blockchain[0]\n",
    "\n",
    "# number of blocks to create in list\n",
    "\n",
    "num_of_blocks_to_add = 20 \n",
    "\n",
    "# adding blocks to python list i.e. \"chain\"\n",
    "\n",
    "for i in range(0, num_of_blocks_to_add):\n",
    "    block_to_add = next_block(previous_block)\n",
    "    blockchain.append(block_to_add)\n",
    "    previous_block = block_to_add\n",
    "    \n",
    "    print \"Block #{} has been added to blockchain!\".format(block_to_add.index)\n",
    "    print \"Hash: {}\\n\".format(block_to_add.hash)\n",
    "\n"
   ]
  },
  {
   "cell_type": "code",
   "execution_count": 43,
   "metadata": {},
   "outputs": [
    {
     "name": "stdout",
     "output_type": "stream",
     "text": [
      "Hey! I'm block 15\n",
      "b4b521497fce62097d412c01b059cc7ff57c3ecf75d76000339fc9b57b4b57b3\n",
      "b4b521497fce62097d412c01b059cc7ff57c3ecf75d76000339fc9b57b4b57b3\n"
     ]
    }
   ],
   "source": [
    "print blockchain[15].data\n",
    "print blockchain[15].hash\n",
    "print blockchain[16].previous_hash"
   ]
  },
  {
   "cell_type": "markdown",
   "metadata": {},
   "source": [
    "## Real World Example\n",
    "\n",
    "Retail store needs to track shipments through complex supply chain. e.g. Walmart fruit goes through many different third parties before arriving in store.\n",
    "\n",
    "Blockchain gives complete picture of all transactions without requiring all 3rd parties to access central database"
   ]
  },
  {
   "cell_type": "code",
   "execution_count": 44,
   "metadata": {},
   "outputs": [],
   "source": [
    "def next_block(last_block, data):\n",
    "    this_index = last_block.index + 1\n",
    "    this_timestamp = date.datetime.now()\n",
    "    this_data = data\n",
    "    this_previous_hash = last_block.hash\n",
    "    return Block(this_index, this_timestamp, this_data, this_previous_hash)"
   ]
  },
  {
   "cell_type": "code",
   "execution_count": 45,
   "metadata": {},
   "outputs": [],
   "source": [
    "def shipment(buyer, seller, invoice_id):\n",
    "    shipment = {\"from\": seller,\n",
    "               \"to\": buyer,\n",
    "               \"invoice_id\": invoice_id}\n",
    "    return shipment"
   ]
  },
  {
   "cell_type": "code",
   "execution_count": 75,
   "metadata": {},
   "outputs": [
    {
     "name": "stdout",
     "output_type": "stream",
     "text": [
      "1\n",
      "2f808b560e13abeb22f2d5c668e32f967ee4e079197c44fcf63f776a9799eb33\n"
     ]
    }
   ],
   "source": [
    "#example\n",
    "# Python indexes starting with zero\n",
    "# However, counts starting with one\n",
    "\n",
    "print len(blockchain)\n",
    "print blockchain[len(blockchain)-1].hash"
   ]
  },
  {
   "cell_type": "code",
   "execution_count": 76,
   "metadata": {},
   "outputs": [],
   "source": [
    "def get_previous_block(current_blockchain):\n",
    "    block = current_blockchain[len(current_blockchain)-1]\n",
    "    return block"
   ]
  },
  {
   "cell_type": "code",
   "execution_count": 77,
   "metadata": {},
   "outputs": [],
   "source": [
    "def add_shipment_to_blockchain(shipment_info, current_blockchain):\n",
    "    previous_block = get_previous_block(current_blockchain)\n",
    "    new_block = next_block(previous_block, shipment_info)\n",
    "    current_blockchain.append(new_block)\n",
    "    return current_blockchain"
   ]
  },
  {
   "cell_type": "code",
   "execution_count": 88,
   "metadata": {},
   "outputs": [],
   "source": [
    "# quality of life function to show data in blockchain\n",
    "\n",
    "def print_data(current_blockchain):\n",
    "    for i in current_blockchain:\n",
    "        print str(i.data) +\" \" + i.hash"
   ]
  },
  {
   "cell_type": "code",
   "execution_count": 90,
   "metadata": {},
   "outputs": [],
   "source": [
    "blockchain = [create_genesis_block()]"
   ]
  },
  {
   "cell_type": "code",
   "execution_count": 91,
   "metadata": {},
   "outputs": [
    {
     "name": "stdout",
     "output_type": "stream",
     "text": [
      "Genesis Block 622d04d0d7f62d97ff1109e8e2bc605116b391b7ed71106d6f73995b19fc0ecb\n"
     ]
    }
   ],
   "source": [
    "# Printing data in blockchain\n",
    "print_data(blockchain)"
   ]
  },
  {
   "cell_type": "code",
   "execution_count": 92,
   "metadata": {},
   "outputs": [],
   "source": [
    "# Add transaction to chain\n",
    "txn1 = shipment(\"Farm123\", \"Store234\", \"1\")"
   ]
  },
  {
   "cell_type": "code",
   "execution_count": 93,
   "metadata": {},
   "outputs": [],
   "source": [
    "blockchain = add_shipment_to_blockchain(txn1, blockchain)"
   ]
  },
  {
   "cell_type": "code",
   "execution_count": 94,
   "metadata": {},
   "outputs": [
    {
     "name": "stdout",
     "output_type": "stream",
     "text": [
      "Genesis Block 622d04d0d7f62d97ff1109e8e2bc605116b391b7ed71106d6f73995b19fc0ecb\n",
      "{'to': 'Farm123', 'from': 'Store234', 'invoice_id': '1'} e58fc9aa54378a32ba5db895bb5e370304726567f30bf9a2a2f0f1d45c744268\n"
     ]
    }
   ],
   "source": [
    "print_data(blockchain)"
   ]
  },
  {
   "cell_type": "code",
   "execution_count": 96,
   "metadata": {},
   "outputs": [],
   "source": [
    "txn2 = shipment(\"Store234\", \"Store567\", \"1\")"
   ]
  },
  {
   "cell_type": "code",
   "execution_count": 97,
   "metadata": {},
   "outputs": [
    {
     "name": "stdout",
     "output_type": "stream",
     "text": [
      "Genesis Block 622d04d0d7f62d97ff1109e8e2bc605116b391b7ed71106d6f73995b19fc0ecb\n",
      "{'to': 'Farm123', 'from': 'Store234', 'invoice_id': '1'} e58fc9aa54378a32ba5db895bb5e370304726567f30bf9a2a2f0f1d45c744268\n",
      "{'to': 'Farm123', 'from': 'Store234', 'invoice_id': '1'} 2309e856e85aa0d017f9e0caf732f70899303d0ef5f2f2b4e80676aa11e405a7\n"
     ]
    }
   ],
   "source": [
    "blockchain = add_shipment_to_blockchain(txn1, blockchain)\n",
    "print_data(blockchain)"
   ]
  },
  {
   "cell_type": "code",
   "execution_count": null,
   "metadata": {},
   "outputs": [],
   "source": []
  }
 ],
 "metadata": {
  "kernelspec": {
   "display_name": "Python 2",
   "language": "python",
   "name": "python2"
  },
  "language_info": {
   "codemirror_mode": {
    "name": "ipython",
    "version": 2
   },
   "file_extension": ".py",
   "mimetype": "text/x-python",
   "name": "python",
   "nbconvert_exporter": "python",
   "pygments_lexer": "ipython2",
   "version": "2.7.15rc1"
  }
 },
 "nbformat": 4,
 "nbformat_minor": 2
}
