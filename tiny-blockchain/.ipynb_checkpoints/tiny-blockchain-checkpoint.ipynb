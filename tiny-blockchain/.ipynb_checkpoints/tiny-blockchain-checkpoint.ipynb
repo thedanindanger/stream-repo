{
 "cells": [
  {
   "cell_type": "markdown",
   "metadata": {},
   "source": [
    "# Tiniest Blockchain Example Notebook\n",
    "Original source found: https://medium.com/crypto-currently/lets-build-the-tiniest-blockchain-e70965a248b\n",
    "\n"
   ]
  },
  {
   "cell_type": "code",
   "execution_count": 2,
   "metadata": {},
   "outputs": [],
   "source": [
    "#Import packages\n",
    "import hashlib as hasher\n",
    "import datetime as date"
   ]
  },
  {
   "cell_type": "markdown",
   "metadata": {},
   "source": [
    "## SHA Hashing Example\n",
    "SHA256 hash provides unique alpha numeric code (i.e. \"hash\") for given value. Able to recreate original value from given hash.\n",
    "\n",
    "Example below"
   ]
  },
  {
   "cell_type": "code",
   "execution_count": 3,
   "metadata": {},
   "outputs": [
    {
     "name": "stdout",
     "output_type": "stream",
     "text": [
      "e3b0c44298fc1c149afbf4c8996fb92427ae41e4649b934ca495991b7852b855\n"
     ]
    }
   ],
   "source": [
    "sha = hasher.sha256()\n",
    "print sha.hexdigest()"
   ]
  },
  {
   "cell_type": "markdown",
   "metadata": {},
   "source": [
    "\n",
    "Above shows a random sha256 'hash' - an alpha numeric output of fixed length\n",
    "\n",
    "Hash works in practice by taking a 'string' - an alpha numeric input of ANY length - and returning fixed length, deterministic hash"
   ]
  },
  {
   "cell_type": "code",
   "execution_count": 4,
   "metadata": {},
   "outputs": [
    {
     "name": "stdout",
     "output_type": "stream",
     "text": [
      "19a02fb23ed4f4d29228b1b2b318cc37f3efdb20859048d3397ff4c57f55dbe6\n"
     ]
    }
   ],
   "source": [
    "sha.update(\"1235asihgasdh\")\n",
    "print sha.hexdigest()"
   ]
  },
  {
   "cell_type": "markdown",
   "metadata": {},
   "source": [
    "\n",
    "'Deterministic' means same input will always result in the same output\n",
    "\n",
    "Below we take the same input as before and reproduce the hash value\n"
   ]
  },
  {
   "cell_type": "code",
   "execution_count": 5,
   "metadata": {},
   "outputs": [
    {
     "name": "stdout",
     "output_type": "stream",
     "text": [
      "19a02fb23ed4f4d29228b1b2b318cc37f3efdb20859048d3397ff4c57f55dbe6\n"
     ]
    }
   ],
   "source": [
    "print hasher.sha256(\"1235asihgasdh\").hexdigest()"
   ]
  },
  {
   "cell_type": "markdown",
   "metadata": {},
   "source": [
    "\n",
    "It's important to note, the hash function does not work in reverse. You cannot determine what data formed the hash function's input just because you know the hash function's output. \n",
    "\n",
    "\n",
    "\n",
    "In blockchain, each new block (Block 1) includes the hash of the previous block's (Block 0) data AND its hash. \n",
    "\n",
    "Because the previous block's (Block 0) hash includes it's previous block (block -1), once a new block is created, the deterministic hash function prevents all subsequent blocks from being altered. To modify the 'chain' of blocks and hashes, someone would have to modify every single block.\n",
    "\n",
    "Even without encryption modifying every block is a monumental undertaking.\n",
    "\n",
    "Combined with encryption and have multiple copies of your blockchain, all owned by different users, all regularly checking the integrity of their transaction chain, a 'distributed ledger' is possible.\n",
    "\n",
    "However, the technology enabled by the blockchain concept can be difficult to understand without a strong understanding of how blockchain is created.\n",
    "\n",
    "\n"
   ]
  },
  {
   "cell_type": "markdown",
   "metadata": {},
   "source": [
    "## Creating Blockchain\n",
    "Blockchain is series of sha or other hashes of data. Hash for given data must also include previous hash.\n",
    "\n",
    "Provides 'chain' of data history. All hashes contain entire previous history of data; therefore historically immutable when distributed (i.e. stored in multiple locations)\n",
    "\n",
    "As a refresher:\n",
    "* Each block has data, a timestamp, possible index, and the previous block's hash\n",
    "* The previous block's hash and data aare is used when creating it's hash for the current block\n",
    "* The sequence of hashes creates a full history of transactions\n",
    "* hash0 -> txn1 -> hash(txn1, hash0)-> hash1 -> tnx2 -> hash(tnx2, hash1) -> hash2\n",
    "\n",
    "## Building blocks\n",
    "\n",
    "The code below creates a block 'class' - a template for all future blocks which holds the block's data AND any operations we want to use only within that class. The operations are called 'methods' and give us ways to perform repeatable operations that users of the class cannot manipulate.\n",
    "\n",
    "But that detail isn't important, and methods, classes and functions is confusing for those getting started,so let's not dwell on it. The import parts are:\n",
    "* creating a block requires an index, timestamp, data, and the previous hash as inputs\n",
    "* the method 'hash_block' returns the sha256 hash for this block\n",
    "\n",
    "'hash_block' is eactly the same operation we saw above, only instead of\n"
   ]
  },
  {
   "cell_type": "code",
   "execution_count": 6,
   "metadata": {},
   "outputs": [],
   "source": [
    "class Block:\n",
    "    def __init__(self, index, timestamp, data, previous_hash):\n",
    "        self.index = index\n",
    "        self.timestamp = timestamp\n",
    "        self.data = data\n",
    "        self.previous_hash = previous_hash\n",
    "        self.hash = self.hash_block()\n",
    "        \n",
    "    def hash_block(self):\n",
    "        sha = hasher.sha256()\n",
    "        sha.update(str(self.index) +\n",
    "                  str(self.timestamp) + \n",
    "                  str(self.data) + \n",
    "                  str(self.previous_hash))\n",
    "        return sha.hexdigest()"
   ]
  },
  {
   "cell_type": "markdown",
   "metadata": {},
   "source": [
    "### First Block\n",
    "First transaction constructs first block hash. Function instantiates an object of Block class defined in previous module. Block class object has zero index, arbitrary data of \"Gensis Block\" and arbitrary hash of  \"0\". "
   ]
  },
  {
   "cell_type": "code",
   "execution_count": 7,
   "metadata": {},
   "outputs": [],
   "source": [
    "def create_genesis_block():\n",
    "    return Block(0, date.datetime.now(), \"Genesis Block\", \"0\")\n",
    "    "
   ]
  },
  {
   "cell_type": "markdown",
   "metadata": {},
   "source": [
    "### Next Block\n",
    "Define rules around instantiated subsequent Block objects. Requires A previous block to instantiate a new block"
   ]
  },
  {
   "cell_type": "code",
   "execution_count": 8,
   "metadata": {},
   "outputs": [],
   "source": [
    "def next_block(last_block):\n",
    "    this_index = last_block.index + 1\n",
    "    this_timestamp = date.datetime.now()\n",
    "    this_data = \"Hey! I'm block \" + str(this_index)\n",
    "    this_previous_hash = last_block.hash\n",
    "    return Block(this_index, this_timestamp, this_data, this_previous_hash)"
   ]
  },
  {
   "cell_type": "markdown",
   "metadata": {},
   "source": [
    "## Building the Blockchain\n",
    "\n",
    "Construct a Blockchain List with sample data. List is indexed series of blocks using previous blocks sha hash"
   ]
  },
  {
   "cell_type": "code",
   "execution_count": 9,
   "metadata": {},
   "outputs": [
    {
     "name": "stdout",
     "output_type": "stream",
     "text": [
      "60e62b0f3e6f07fb4001df2bfd288b73bf51e46d7ee878350e73bad80c580608\n",
      "c966e4e6d68973cf9b1b78eed226724e32df6d066554ed9d7e7ef9d0249fdd15\n",
      "60e62b0f3e6f07fb4001df2bfd288b73bf51e46d7ee878350e73bad80c580608\n"
     ]
    }
   ],
   "source": [
    "## Demonstration of list vs string, not part of application\n",
    "bc_string = create_genesis_block()\n",
    "bc_list = [create_genesis_block()]\n",
    "\n",
    "print bc_string.hash_block()\n",
    "\n",
    "#has index positions\n",
    "print bc_list[0].hash_block()\n",
    "\n",
    "bc_list.append(bc_string.hash_block())\n",
    "\n",
    "print bc_list[1]"
   ]
  },
  {
   "cell_type": "code",
   "execution_count": 10,
   "metadata": {},
   "outputs": [
    {
     "name": "stdout",
     "output_type": "stream",
     "text": [
      "Block #1 has been added to blockchain!\n",
      "Hash: b962ad78e1e53c2520698e41c2dd1745bf91673c35d920c56d665e5274f8698a\n",
      "\n",
      "Block #2 has been added to blockchain!\n",
      "Hash: b5837900e89e9b55cb704c29178d37b7953f60f364c1926f57a7fc1f6a03ada6\n",
      "\n",
      "Block #3 has been added to blockchain!\n",
      "Hash: 5488b2fc2855f65201a3a0e883afc98b1efcf384473a467227002ee5c3eddac1\n",
      "\n",
      "Block #4 has been added to blockchain!\n",
      "Hash: 014472162076f14d7a547e40c49a938f2ca79aedf33699e0cfd4b91fdd0313d9\n",
      "\n",
      "Block #5 has been added to blockchain!\n",
      "Hash: 9b4bd6ab217f54f3b7c4c6b5fcb78275d5bfc21bbe6e49e4ec621d50bc0ed562\n",
      "\n",
      "Block #6 has been added to blockchain!\n",
      "Hash: 97fb7524c3e86e4bccecd0aa46284891f7b456e67ae3b2ee3e1897361bbe8f0f\n",
      "\n",
      "Block #7 has been added to blockchain!\n",
      "Hash: 4f826ccf6894039153bdc6cc35cb920ad2f09d5efdaa3683271aa087e05251c5\n",
      "\n",
      "Block #8 has been added to blockchain!\n",
      "Hash: 1e5268d516fc78346cb103051b83b8d4ffc8d401e06e1931c2d6bc37a8950c7f\n",
      "\n",
      "Block #9 has been added to blockchain!\n",
      "Hash: 683e5a34b8e4a1cd9768184cc5d47b2ef1f0859c0504447df4ae44201bd155ed\n",
      "\n",
      "Block #10 has been added to blockchain!\n",
      "Hash: 9ba081043369029204421f6f53d0c6812a3c35775d5663b2276a3fbe8b43625f\n",
      "\n",
      "Block #11 has been added to blockchain!\n",
      "Hash: 8dc89429314af16778bf098700bba716980046e9bd2dbaccb8cd32ec49b4dd18\n",
      "\n",
      "Block #12 has been added to blockchain!\n",
      "Hash: 2416015b8922e7e630b549ae648fc90b48f087648556e8e228a1f0213e50ee1a\n",
      "\n",
      "Block #13 has been added to blockchain!\n",
      "Hash: 33980ffd7aab8ef154ad9d0b91dc1bb7b62467fe4dab3d002631099be1876cf7\n",
      "\n",
      "Block #14 has been added to blockchain!\n",
      "Hash: 6a894b59690c7270a707346dec60689b7e57e04c2d5d024d55c17c08558aff34\n",
      "\n",
      "Block #15 has been added to blockchain!\n",
      "Hash: 6c16af3fb7e005204ae37e62509bf53a941f6e1bb17b2a4b1cabede2da47b8bf\n",
      "\n",
      "Block #16 has been added to blockchain!\n",
      "Hash: 71d5fe497d325e5f559c389290c017bfeb58973d4cbdfba217abef397bb144de\n",
      "\n",
      "Block #17 has been added to blockchain!\n",
      "Hash: eca2523065346f3803e8d205d2aba8808af5ef3840a6b9e495e40536dca38cbe\n",
      "\n",
      "Block #18 has been added to blockchain!\n",
      "Hash: 7b86624b9b7c8261bd6072314be15a21fc24e9704f65ccbe6be3ba9251a08498\n",
      "\n",
      "Block #19 has been added to blockchain!\n",
      "Hash: 35d575244374ee758e0be8ab3973660d054475093c26a8afcc08764ff0e53e47\n",
      "\n",
      "Block #20 has been added to blockchain!\n",
      "Hash: c06a75e015f4b3ef8d73ce2c9a9230073f37349bc474713c9afdc90376c83873\n",
      "\n"
     ]
    }
   ],
   "source": [
    "## actual demostration\n",
    "\n",
    "blockchain = [create_genesis_block()]\n",
    "previous_block = blockchain[0]\n",
    "\n",
    "# number of blocks to create in list\n",
    "\n",
    "num_of_blocks_to_add = 20 \n",
    "\n",
    "# adding blocks to python list i.e. \"chain\"\n",
    "\n",
    "for i in range(0, num_of_blocks_to_add):\n",
    "    block_to_add = next_block(previous_block)\n",
    "    blockchain.append(block_to_add)\n",
    "    previous_block = block_to_add\n",
    "    \n",
    "    print \"Block #{} has been added to blockchain!\".format(block_to_add.index)\n",
    "    print \"Hash: {}\\n\".format(block_to_add.hash)\n",
    "\n"
   ]
  },
  {
   "cell_type": "code",
   "execution_count": 11,
   "metadata": {},
   "outputs": [
    {
     "name": "stdout",
     "output_type": "stream",
     "text": [
      "Hey! I'm block 15\n",
      "6c16af3fb7e005204ae37e62509bf53a941f6e1bb17b2a4b1cabede2da47b8bf\n",
      "6c16af3fb7e005204ae37e62509bf53a941f6e1bb17b2a4b1cabede2da47b8bf\n"
     ]
    }
   ],
   "source": [
    "print blockchain[15].data\n",
    "print blockchain[15].hash\n",
    "print blockchain[16].previous_hash"
   ]
  },
  {
   "cell_type": "markdown",
   "metadata": {},
   "source": [
    "## Real World Example\n",
    "\n",
    "Retail store needs to track shipments through complex supply chain. e.g. Walmart fruit goes through many different third parties before arriving in store.\n",
    "\n",
    "Blockchain gives complete picture of all transactions without requiring all 3rd parties to access central database"
   ]
  },
  {
   "cell_type": "markdown",
   "metadata": {},
   "source": [
    "### Creating Functions"
   ]
  },
  {
   "cell_type": "code",
   "execution_count": 15,
   "metadata": {},
   "outputs": [],
   "source": [
    "def next_block(last_block, data):\n",
    "    this_index = last_block.index + 1\n",
    "    this_timestamp = date.datetime.now()\n",
    "    this_data = data\n",
    "    this_previous_hash = last_block.hash\n",
    "    return Block(this_index, this_timestamp, this_data, this_previous_hash)"
   ]
  },
  {
   "cell_type": "code",
   "execution_count": 16,
   "metadata": {},
   "outputs": [],
   "source": [
    "def shipment(buyer, seller, invoice_id):\n",
    "    shipment = {\"from\": seller,\n",
    "               \"to\": buyer,\n",
    "               \"invoice_id\": invoice_id}\n",
    "    return shipment"
   ]
  },
  {
   "cell_type": "code",
   "execution_count": 17,
   "metadata": {},
   "outputs": [],
   "source": [
    "def get_previous_block(current_blockchain):\n",
    "    block = current_blockchain[len(current_blockchain)-1]\n",
    "    return block"
   ]
  },
  {
   "cell_type": "code",
   "execution_count": 18,
   "metadata": {},
   "outputs": [
    {
     "name": "stdout",
     "output_type": "stream",
     "text": [
      "21\n",
      "c06a75e015f4b3ef8d73ce2c9a9230073f37349bc474713c9afdc90376c83873\n"
     ]
    }
   ],
   "source": [
    "#example\n",
    "# Python indexes starting with zero\n",
    "# However, counts starting with one\n",
    "\n",
    "print len(blockchain)\n",
    "print blockchain[len(blockchain)-1].hash"
   ]
  },
  {
   "cell_type": "code",
   "execution_count": 19,
   "metadata": {},
   "outputs": [],
   "source": [
    "def add_shipment_to_blockchain(shipment_info, current_blockchain):\n",
    "    previous_block = get_previous_block(current_blockchain)\n",
    "    new_block = next_block(previous_block, shipment_info)\n",
    "    current_blockchain.append(new_block)\n",
    "    return current_blockchain"
   ]
  },
  {
   "cell_type": "code",
   "execution_count": 20,
   "metadata": {},
   "outputs": [],
   "source": [
    "# quality of life function to show data in blockchain\n",
    "\n",
    "def print_data(current_blockchain):\n",
    "    for i in current_blockchain:\n",
    "        print str(i.data) +\" \" + i.hash"
   ]
  },
  {
   "cell_type": "markdown",
   "metadata": {},
   "source": [
    "### Building the blockchain"
   ]
  },
  {
   "cell_type": "code",
   "execution_count": 21,
   "metadata": {},
   "outputs": [],
   "source": [
    "blockchain = [create_genesis_block()]"
   ]
  },
  {
   "cell_type": "code",
   "execution_count": 22,
   "metadata": {},
   "outputs": [
    {
     "name": "stdout",
     "output_type": "stream",
     "text": [
      "Genesis Block 9080e1ffde299fc702e1de6309f0ca838ad1d22846639ef0a58d0a81c7707837\n"
     ]
    }
   ],
   "source": [
    "# Printing data in blockchain\n",
    "print_data(blockchain)"
   ]
  },
  {
   "cell_type": "code",
   "execution_count": 23,
   "metadata": {},
   "outputs": [],
   "source": [
    "# Add transaction to chain\n",
    "txn1 = shipment(\"Farm123\", \"Store234\", \"1\")"
   ]
  },
  {
   "cell_type": "code",
   "execution_count": 24,
   "metadata": {},
   "outputs": [],
   "source": [
    "blockchain = add_shipment_to_blockchain(txn1, blockchain)"
   ]
  },
  {
   "cell_type": "code",
   "execution_count": 25,
   "metadata": {},
   "outputs": [
    {
     "name": "stdout",
     "output_type": "stream",
     "text": [
      "Genesis Block 9080e1ffde299fc702e1de6309f0ca838ad1d22846639ef0a58d0a81c7707837\n",
      "{'to': 'Farm123', 'from': 'Store234', 'invoice_id': '1'} fde7adddd671174b48aa4ce3e06ad5a67c4c93a3c2ca67d18b4aaf171172cc00\n"
     ]
    }
   ],
   "source": [
    "print_data(blockchain)"
   ]
  },
  {
   "cell_type": "code",
   "execution_count": 26,
   "metadata": {},
   "outputs": [],
   "source": [
    "txn2 = shipment(\"Store234\", \"Store567\", \"1\")"
   ]
  },
  {
   "cell_type": "code",
   "execution_count": 27,
   "metadata": {},
   "outputs": [
    {
     "name": "stdout",
     "output_type": "stream",
     "text": [
      "Genesis Block 9080e1ffde299fc702e1de6309f0ca838ad1d22846639ef0a58d0a81c7707837\n",
      "{'to': 'Farm123', 'from': 'Store234', 'invoice_id': '1'} fde7adddd671174b48aa4ce3e06ad5a67c4c93a3c2ca67d18b4aaf171172cc00\n",
      "{'to': 'Farm123', 'from': 'Store234', 'invoice_id': '1'} a6ea7eb77ada5a1ce8c96da03e5bafa69eeb3b3de679751180141b61e75949f2\n"
     ]
    }
   ],
   "source": [
    "blockchain = add_shipment_to_blockchain(txn1, blockchain)\n",
    "print_data(blockchain)"
   ]
  }
 ],
 "metadata": {
  "kernelspec": {
   "display_name": "Python 2",
   "language": "python",
   "name": "python2"
  },
  "language_info": {
   "codemirror_mode": {
    "name": "ipython",
    "version": 2
   },
   "file_extension": ".py",
   "mimetype": "text/x-python",
   "name": "python",
   "nbconvert_exporter": "python",
   "pygments_lexer": "ipython2",
   "version": "2.7.15rc1"
  }
 },
 "nbformat": 4,
 "nbformat_minor": 2
}
